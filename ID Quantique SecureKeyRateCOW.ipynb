{
 "cells": [
  {
   "cell_type": "code",
   "execution_count": 1,
   "id": "776a2df6",
   "metadata": {},
   "outputs": [],
   "source": [
    "import numpy as np\n",
    "import matplotlib as plt \n",
    "import math "
   ]
  },
  {
   "cell_type": "code",
   "execution_count": 23,
   "id": "1391398a",
   "metadata": {},
   "outputs": [],
   "source": [
    "#A python program to compute the finite key rate of COW QKD protocol\n",
    "#((1-Q-delQ)*hfunc((1+delta)/2))-\n",
    "#A fuction to compute the secret key fraction using leak_EC, leak_VER, QBER Q, delQ, delta,beta_smooth, beta_EC, beta_PA.\n",
    "def f_sec(leak_EC, leak_VER, Q, delQ, delta,beta_smooth, beta_EC, beta_PA):\n",
    "    f_sec= 1-leak_EC-(leak_VER*(Q+delQ))-beta_smooth-beta_EC-beta_PA\n",
    "    return f_sec\n",
    "\n",
    "# A function for calulating the binary entropy\n",
    "def hfunc(e):\n",
    "    h=-e*np.log2(e)-((1-e)*np.log2(1-e))\n",
    "    return h\n",
    "\n",
    "# A function for calculating delQ value\n",
    "def delQval(eta_PE,n_pp,epsilon_PE):\n",
    "    delQval=np.sqrt((1+eta_PE*(n_pp-1))/((eta_PE*n_PP)**2)*np.log(1/epsilon_PE))\n",
    "    return delQval\n",
    "\n",
    "# A function for calculating delV value\n",
    "def delVval(epsilon_PE_V, n_V):\n",
    "    delVval=np.sqrt(1/2*(np.log(1/epsilon_PE_V)+2*np.log(n_V+1))/n_V)\n",
    "    return delVval\n",
    "\n",
    "# A faunction to calculate beta_smooth\n",
    "def beta_smoothVal(epsilon_smooth, n_PP):\n",
    "    beta_smoothVal=7*np.sqrt(np.log2(2/epsilon_smooth)/n_PP)\n",
    "    return beta_smoothVal\n",
    "\n",
    "# A function to calculate n_V\n",
    "def n_Vval(n_sift,p_decoy,t_B):\n",
    "    n_Vval = ((n_sift*p_decoy+((1+p_decoy)**2)/4)/(1-p_decoy))*((1-t_B)/t_B)\n",
    "    return n_Vval\n",
    "\n",
    "# A function to calculate beta_EC\n",
    "def beta_ECval(epsilon_EC,n_PP):\n",
    "    beta_ECval=np.log2(2/epsilon_EC)/n_PP\n",
    "    return beta_ECval\n",
    "\n",
    "# A function to calculate beta_PA\n",
    "def beta_PAval(epsilon_PA,n_PP):\n",
    "    beta_PAval=2*np.log2(1/epsilon_PA)/n_PP\n",
    "    return beta_PAval\n",
    "# A function to calculate deta\n",
    "def deltaval(V,del_V,mu):\n",
    "    deltaval=(2*(V-del_V)-1)*np.exp(-mu)-(2*np.sqrt(1-np.exp(-2*mu))*np.sqrt((V-del_V)*(1-(V-del_V))))\n",
    "    return deltaval\n",
    "\n",
    "    \n",
    "\n"
   ]
  },
  {
   "cell_type": "code",
   "execution_count": 24,
   "id": "abe45ee5",
   "metadata": {},
   "outputs": [],
   "source": [
    "leak_VER=0.023\n",
    "leak_EC=1/4\n",
    "delQ=0\n",
    "epsilon_EC=epsilon_VER=8*10**(-13)\n",
    "epsilon_PE=epsilon_PE_V=7.7*10**(-13)\n",
    "epsilon_smooth=4*10**(-10)\n",
    "epsilon_PA=10**(-10)\n",
    "n_sift=21000\n",
    "n_PP=0.875*n_sift\n",
    "mu=0.089\n",
    "t_B=0.80\n",
    "V=0.9814\n",
    "Q=0.0170\n",
    "p_decoy=1/3\n",
    "beta_sift=(1-p_decoy)/(1+p_decoy)"
   ]
  },
  {
   "cell_type": "code",
   "execution_count": 25,
   "id": "8c49b137",
   "metadata": {},
   "outputs": [],
   "source": [
    "n_V=n_Vval(n_sift,p_decoy,t_B)\n",
    "del_V=delVval(epsilon_PE_V, n_V)\n",
    "delta=deltaval(V,del_V,mu)\n",
    "beta_smooth=beta_smoothVal(epsilon_smooth, n_PP)\n",
    "beta_EC=beta_ECval(epsilon_EC,n_PP)\n",
    "beta_PA=beta_PAval(epsilon_PA,n_PP)\n",
    "\n"
   ]
  },
  {
   "cell_type": "code",
   "execution_count": 26,
   "id": "19f4f7dd",
   "metadata": {},
   "outputs": [],
   "source": [
    "c=0.875*f_sec(leak_EC, leak_VER, Q, delQ, delta,beta_smooth, beta_EC, beta_PA)"
   ]
  },
  {
   "cell_type": "code",
   "execution_count": 27,
   "id": "5b71b15b",
   "metadata": {},
   "outputs": [
    {
     "data": {
      "text/plain": [
       "3.943048088755735e-01"
      ]
     },
     "execution_count": 27,
     "metadata": {},
     "output_type": "execute_result"
    }
   ],
   "source": [
    "c"
   ]
  },
  {
   "cell_type": "code",
   "execution_count": 28,
   "id": "efdcb996",
   "metadata": {},
   "outputs": [
    {
     "data": {
      "text/plain": [
       "8280.400986387043"
      ]
     },
     "execution_count": 28,
     "metadata": {},
     "output_type": "execute_result"
    }
   ],
   "source": [
    "c*21000"
   ]
  },
  {
   "cell_type": "code",
   "execution_count": 187,
   "id": "698a4342",
   "metadata": {},
   "outputs": [
    {
     "data": {
      "text/plain": [
       "3.7056924891299185e-02"
      ]
     },
     "execution_count": 187,
     "metadata": {},
     "output_type": "execute_result"
    }
   ],
   "source": [
    "beta_smoothVal(10**(-9), n_PP)"
   ]
  },
  {
   "cell_type": "code",
   "execution_count": 188,
   "id": "d5069e03",
   "metadata": {},
   "outputs": [
    {
     "data": {
      "text/plain": [
       "7.231408097713986e-05"
      ]
     },
     "execution_count": 188,
     "metadata": {},
     "output_type": "execute_result"
    }
   ],
   "source": [
    "beta_PAval(10**(-12),n_PP)\n"
   ]
  },
  {
   "cell_type": "code",
   "execution_count": 189,
   "id": "b3e813d2",
   "metadata": {},
   "outputs": [
    {
     "data": {
      "text/plain": [
       "0.8953034845302977"
      ]
     },
     "execution_count": 189,
     "metadata": {},
     "output_type": "execute_result"
    }
   ],
   "source": [
    "((10**6)-(c*10**6))/10**6"
   ]
  },
  {
   "cell_type": "code",
   "execution_count": null,
   "id": "034cc341",
   "metadata": {},
   "outputs": [],
   "source": []
  },
  {
   "cell_type": "code",
   "execution_count": null,
   "id": "3227afb1",
   "metadata": {},
   "outputs": [],
   "source": []
  }
 ],
 "metadata": {
  "kernelspec": {
   "display_name": "Python 3 (ipykernel)",
   "language": "python",
   "name": "python3"
  },
  "language_info": {
   "codemirror_mode": {
    "name": "ipython",
    "version": 3
   },
   "file_extension": ".py",
   "mimetype": "text/x-python",
   "name": "python",
   "nbconvert_exporter": "python",
   "pygments_lexer": "ipython3",
   "version": "3.9.12"
  }
 },
 "nbformat": 4,
 "nbformat_minor": 5
}
