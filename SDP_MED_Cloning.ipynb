{
 "cells": [
  {
   "cell_type": "markdown",
   "id": "94ab27b3",
   "metadata": {},
   "source": [
    "## Semidefinite program to identify the POVMS for Minimum error discrimination and Cloning for the DPS QKD states"
   ]
  },
  {
   "cell_type": "markdown",
   "id": "7fe99ea4",
   "metadata": {},
   "source": [
    "This notebook contains the code to find the POVMS corresponding to the minimum error descrimination of the DPS QKD states. The results of which are used in the paper \"Explicit attacks on differential phase shifted quantum key distribution\"\n",
    "\n",
    "\n",
    "This notebook depends upon various packages including numpy >= 1.19.5, picos >= 2.2.55, and cvxopt >= 1.2.5."
   ]
  },
  {
   "cell_type": "code",
   "execution_count": 47,
   "id": "29cfd7fc",
   "metadata": {},
   "outputs": [],
   "source": [
    "# Necessary inputs \n",
    "import cvxopt as cvx\n",
    "import picos as pic\n",
    "import numpy as np\n",
    "import math\n",
    "import matplotlib.pyplot as plt\n"
   ]
  },
  {
   "cell_type": "code",
   "execution_count": 48,
   "id": "65d78187",
   "metadata": {},
   "outputs": [
    {
     "name": "stdout",
     "output_type": "stream",
     "text": [
      "Solvers supported on this installation of PICOS: dict_keys(['cplex', 'cvxopt', 'ecos', 'glpk', 'gurobi', 'mosek', 'mskfsn', 'osqp', 'scip', 'smcp'])\n"
     ]
    }
   ],
   "source": [
    "print('Solvers supported on this installation of PICOS:', pic.solvers.all_solvers().keys())"
   ]
  },
  {
   "cell_type": "code",
   "execution_count": 49,
   "id": "da8f8740",
   "metadata": {},
   "outputs": [
    {
     "name": "stdout",
     "output_type": "stream",
     "text": [
      "Solvers available to PICOS on this machine : ['cvxopt', 'ecos', 'mosek', 'mskfsn', 'osqp']\n"
     ]
    }
   ],
   "source": [
    "print('Solvers available to PICOS on this machine :', pic.solvers.available_solvers())"
   ]
  },
  {
   "cell_type": "markdown",
   "id": "a8df409b",
   "metadata": {},
   "source": [
    "## MED SDP\n",
    "### The 3-pulse DPS states that we are trying to descriminate can be written in the vector form as, \n",
    "$$\\begin{array}{ll}\n",
    "\\psi (+,+) = (1/\\sqrt{3})[0;1;1;0;1;0;0;0];\\\\ \n",
    "\\psi (+,-)= (1/\\sqrt{3})[0;-1;1;0;1;0;0;0];\\\\ \n",
    "\\psi (-,+) = (1/\\sqrt{3})[0;1;-1;0;1;0;0;0];\\\\  \n",
    "\\psi (-,-) = (1/\\sqrt{3})[0;-1;-1;0;1;0;0;0]. \n",
    "\\end{array}$$\n",
    "### The SDP corresponding to the DPS states minimum error discrimination is-\n",
    "\\begin{equation}\n",
    "    \\begin{array}{ll}\n",
    "\\text{ maximize:} & \\frac{1}{4}\\langle \\rho_i, P_i\\rangle \\\\\n",
    "  \\text {subject to:}  &\\sum_iP_i = I \\\\ \n",
    "& P_i>0\n",
    "\\end{array} \\label{eq:sdp_main}\n",
    "\\end{equation}\n",
    "Here, $\\rho_i$ is the density matrix corresponding to the DPS states."
   ]
  },
  {
   "cell_type": "code",
   "execution_count": 53,
   "id": "3ef37368",
   "metadata": {},
   "outputs": [],
   "source": [
    "# kets is an array that holds all the DPS states sent by Alice\n",
    "kets=[(1/np.sqrt(3))*np.matrix([0,1,1,0,1,0,0,0]),(1/np.sqrt(3))*np.matrix([0,-1,1,0,1,0,0,0]),(1/np.sqrt(3))*np.matrix([0,1,-1,0,1,0,0,0]), (1/np.sqrt(3))*np.matrix([0,-1,-1,0,1,0,0,0])]\n"
   ]
  },
  {
   "cell_type": "code",
   "execution_count": 68,
   "id": "45c2ad45",
   "metadata": {},
   "outputs": [],
   "source": [
    "# rhos contian the density matrices corresponding to the DPS QKD states\n",
    "rhos=[]\n",
    "for i in range(len(kets)):\n",
    "    rhos.append(np.matrix(np.transpose(kets[i])*kets[i]))\n",
    "\n",
    "\n"
   ]
  },
  {
   "cell_type": "code",
   "execution_count": 70,
   "id": "b22a3862",
   "metadata": {},
   "outputs": [],
   "source": [
    "#The constants in the SDP \n",
    "Sgs1 = pic.Constant(\"sg1\", rhos[0])\n",
    "Sgs2 = pic.Constant(\"sg2\", rhos[1])\n",
    "Sgs3 = pic.Constant(\"sg3\", rhos[2])\n",
    "Sgs4 = pic.Constant(\"sg4\", rhos[3])\n",
    "\n",
    "# q here is the probability with which each state is sent \n",
    "q = pic.Constant(\"q\", 0.25)\n",
    "\n",
    "#Identity matrix\n",
    "shp = np.shape(rhos[1])\n",
    "iMat = pic.Constant('I', np.eye(8,dtype='complex'))\n",
    "\n",
    "#Variables - here are the POVMS \n",
    "#----------\n",
    "eVars1 = pic.HermitianVariable(\"E1\", shp)\n",
    "eVars2 = pic.HermitianVariable(\"E2\", shp)\n",
    "eVars3 = pic.HermitianVariable(\"E3\", shp)\n",
    "\n",
    "\n",
    "\n",
    "\n",
    "\n",
    "prob1 = pic.Problem()\n",
    "    \n",
    "#Constraints - The POVMS are positiove operators and they sum to identity of appropriate dimension\n",
    "#----------\n",
    "prob1.add_constraint(eVars1 >> 0)\n",
    "prob1.add_constraint(eVars2 >> 0)\n",
    "prob1.add_constraint(eVars3 >> 0)\n",
    "prob1.add_constraint(iMat -eVars1 - eVars2 - eVars3  >> 0)\n",
    "\n",
    "#Objective\n",
    "#----------\n",
    "obj = q*(Sgs1 | eVars1) + q*(Sgs2 | eVars2) + q*(Sgs3 | eVars3) + (1-3*q)*(Sgs4 |(iMat -eVars1 - eVars2 - eVars3) )\n",
    "\n",
    "prob1.set_objective('max',obj)"
   ]
  },
  {
   "cell_type": "code",
   "execution_count": 72,
   "id": "fd85b10c",
   "metadata": {},
   "outputs": [
    {
     "name": "stdout",
     "output_type": "stream",
     "text": [
      "Complex Semidefinite Program\n",
      "  maximize q·⟨sg1, E1⟩ + q·⟨sg2, E2⟩ + q·⟨sg3, E3⟩ + (1 - 3·q)·⟨sg4, I - E1 - E2 - E3⟩\n",
      "  over\n",
      "    8×8 hermitian variable Ei+1 ∀ i ∈ [0…2]\n",
      "  subject to\n",
      "    E1 ≽ 0\n",
      "    E2 ≽ 0\n",
      "    E3 ≽ 0\n",
      "    I - E1 - E2 - E3 ≽ 0\n"
     ]
    }
   ],
   "source": [
    "# Printing the SDP formulated.\n",
    "print(prob1)"
   ]
  },
  {
   "cell_type": "code",
   "execution_count": 74,
   "id": "3963c8c2",
   "metadata": {},
   "outputs": [
    {
     "data": {
      "text/plain": [
       "<primal feasible solution pair (claimed optimal) from cvxopt>"
      ]
     },
     "execution_count": 74,
     "metadata": {},
     "output_type": "execute_result"
    }
   ],
   "source": [
    "# Solving the problem using cvxopt\n",
    "prob1.solve(verbosity=False,solver='cvxopt')"
   ]
  },
  {
   "cell_type": "code",
   "execution_count": 75,
   "id": "21280c8e",
   "metadata": {},
   "outputs": [
    {
     "name": "stdout",
     "output_type": "stream",
     "text": [
      "Probability of discriminating the inputs is =  0.7499999998232117\n"
     ]
    }
   ],
   "source": [
    "# printing the optimized value\n",
    "prb = prob1.value\n",
    "print('Probability of discriminating the inputs is = ', prb)"
   ]
  },
  {
   "cell_type": "markdown",
   "id": "881db49a",
   "metadata": {},
   "source": [
    "## Cloning SDP\n",
    "\n",
    "Here we optimize and find the Chi matrix for which the fidelity with the state sent by ALice is high. The theory can be found in the paper."
   ]
  },
  {
   "cell_type": "code",
   "execution_count": 81,
   "id": "8d6f185a",
   "metadata": {},
   "outputs": [],
   "source": [
    "# the 3-pulse DPS state as qutrit states \n",
    "ketsclon=[(1/np.sqrt(3))*np.matrix([1,1,1]),(1/np.sqrt(3))*np.matrix([1,-1,1]), (1/np.sqrt(3))*np.matrix([1,1,-1]),(1/np.sqrt(3))*np.matrix([1,-1,-1])]"
   ]
  },
  {
   "cell_type": "code",
   "execution_count": 82,
   "id": "ca210f28",
   "metadata": {},
   "outputs": [],
   "source": [
    "#According to the SDP, we need the \\psi \\otimes \\psi \\otimes \\psi.\n",
    "tensorketclon=[]\n",
    "for i in range(len(ketsclon)):\n",
    "    tensorketclon.append(np.kron(ketsclon[i],np.kron(ketsclon[i],ketsclon[i])))"
   ]
  },
  {
   "cell_type": "code",
   "execution_count": 86,
   "id": "45e9d8a1",
   "metadata": {},
   "outputs": [],
   "source": [
    "#constant in the SDP\n",
    "c=0\n",
    "for i in  range(len(tensorketclon)):\n",
    "    c=c + (0.25*np.matrix(np.transpose(tensorketclon[i])*tensorketclon[i]))"
   ]
  },
  {
   "cell_type": "code",
   "execution_count": 100,
   "id": "5cb8cb42",
   "metadata": {},
   "outputs": [],
   "source": [
    "# Formulating the SDP\n",
    "C=pic.Constant(\"C\",c)\n",
    "X=pic.HermitianVariable(\"X\",(27,27))\n",
    "iMat3 = pic.Constant('I', np.eye(3,dtype='complex'))\n",
    "prob2=pic.Problem()\n",
    "prob2.add_constraint(X>>0)\n",
    "prob2.add_constraint((X[0:3,0:3] + X[3:6,3:6] + X[6:9,6:9] + X[9:12,9:12]+ X[12:15,12:15]+ X[15:18,15:18]+ X[18:21,18:21]+ X[21:24,21:24]+ X[24:27,24:27])==iMat3)\n",
    "obj2=(C|X)\n",
    "prob2.set_objective('max',obj2)"
   ]
  },
  {
   "cell_type": "code",
   "execution_count": 101,
   "id": "2192d78e",
   "metadata": {},
   "outputs": [
    {
     "name": "stdout",
     "output_type": "stream",
     "text": [
      "Complex Semidefinite Program\n",
      "  maximize ⟨C, X⟩\n",
      "  over\n",
      "    27×27 hermitian variable X\n",
      "  subject to\n",
      "    X ≽ 0\n",
      "    X[0:3,0:3] + X[3:6,3:6] + X[6:9,6:9] + X[9:12,9:12] +\n",
      "      X[12:15,12:15] + X[15:18,15:18] + X[18:21,18:21] +\n",
      "      X[21:24,21:24] + X[24:27,24:27] = I\n"
     ]
    }
   ],
   "source": [
    "print(prob2)"
   ]
  },
  {
   "cell_type": "code",
   "execution_count": 102,
   "id": "9794b530",
   "metadata": {},
   "outputs": [
    {
     "data": {
      "text/plain": [
       "<primal feasible solution pair (claimed optimal) from cvxopt>"
      ]
     },
     "execution_count": 102,
     "metadata": {},
     "output_type": "execute_result"
    }
   ],
   "source": [
    "prob2.solve(verbosity=False,solver='cvxopt')"
   ]
  },
  {
   "cell_type": "code",
   "execution_count": 104,
   "id": "9a4ca689",
   "metadata": {},
   "outputs": [
    {
     "name": "stdout",
     "output_type": "stream",
     "text": [
      "Probability of right cloning of the inputs is =  0.7777777775046744\n"
     ]
    }
   ],
   "source": [
    "# printing the optimized value\n",
    "prb2 = prob2.value\n",
    "print('Probability of right cloning of the inputs is = ', prb2)"
   ]
  },
  {
   "cell_type": "code",
   "execution_count": null,
   "id": "1eab48be",
   "metadata": {},
   "outputs": [],
   "source": []
  }
 ],
 "metadata": {
  "kernelspec": {
   "display_name": "Python 3 (ipykernel)",
   "language": "python",
   "name": "python3"
  },
  "language_info": {
   "codemirror_mode": {
    "name": "ipython",
    "version": 3
   },
   "file_extension": ".py",
   "mimetype": "text/x-python",
   "name": "python",
   "nbconvert_exporter": "python",
   "pygments_lexer": "ipython3",
   "version": "3.10.9"
  }
 },
 "nbformat": 4,
 "nbformat_minor": 5
}
